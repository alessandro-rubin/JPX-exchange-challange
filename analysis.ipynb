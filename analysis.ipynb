{
 "cells": [
  {
   "cell_type": "code",
   "execution_count": null,
   "metadata": {},
   "outputs": [],
   "source": [
    "import warnings, gc\n",
    "import numpy as np \n",
    "import pandas as pd\n",
    "import matplotlib.colors\n",
    "import seaborn as sns\n",
    "import plotly.express as px\n",
    "import plotly.graph_objects as go\n",
    "from plotly.subplots import make_subplots\n",
    "from plotly.offline import init_notebook_mode\n",
    "from datetime import datetime, timedelta\n",
    "warnings.filterwarnings(\"ignore\")\n",
    "import plotly.figure_factory as ff\n",
    "from tqdm.auto import tqdm\n",
    "import copy\n",
    "import math\n",
    "import random\n",
    "import matplotlib.pyplot as plt"
   ]
  },
  {
   "attachments": {},
   "cell_type": "markdown",
   "metadata": {},
   "source": [
    "First we load the array computed in the other notebook. It's a NxM array containing a simulation of daily spreadys for M days of N different portfolios"
   ]
  },
  {
   "cell_type": "code",
   "execution_count": null,
   "metadata": {},
   "outputs": [],
   "source": [
    "arr=np.load('output/daily_spreads.npy')\n",
    "arr.shape"
   ]
  },
  {
   "attachments": {},
   "cell_type": "markdown",
   "metadata": {},
   "source": [
    "The array has 679 rows, one for each portfolio and 205 column, one for each day. Each element [i,j] is the daily spread of the portfolio i in the day j"
   ]
  },
  {
   "cell_type": "code",
   "execution_count": null,
   "metadata": {},
   "outputs": [],
   "source": [
    "std=np.std(arr,axis=0)"
   ]
  },
  {
   "attachments": {},
   "cell_type": "markdown",
   "metadata": {},
   "source": [
    "I should modyfy those functions so that they return the k-th nearest values"
   ]
  },
  {
   "cell_type": "code",
   "execution_count": null,
   "metadata": {},
   "outputs": [],
   "source": [
    "def find_nearest(array, value):\n",
    "    array = np.asarray(array)\n",
    "    idx = (np.abs(array - value)).argmin()\n",
    "    return array[idx]"
   ]
  },
  {
   "cell_type": "code",
   "execution_count": null,
   "metadata": {},
   "outputs": [],
   "source": [
    "def find_k_nearest(array,value,k):\n",
    "    '''this function returns the k nearest values to a targed value of a given array'''\n",
    "    aux=np.abs(array - value)\n",
    "    indices=np.argsort(aux)\n",
    "    idx=indices[:k]\n",
    "    return array[idx]"
   ]
  },
  {
   "cell_type": "code",
   "execution_count": null,
   "metadata": {},
   "outputs": [],
   "source": [
    "def find_nearest_sorted(array,value):\n",
    "    idx = np.searchsorted(array, value, side=\"left\")\n",
    "    if idx > 0 and (idx == len(array) or math.fabs(value - array[idx-1]) < math.fabs(value - array[idx])):\n",
    "        return array[idx-1]\n",
    "    else:\n",
    "        return array[idx]"
   ]
  },
  {
   "attachments": {},
   "cell_type": "markdown",
   "metadata": {},
   "source": [
    "## Some plots"
   ]
  },
  {
   "attachments": {},
   "cell_type": "markdown",
   "metadata": {},
   "source": [
    "for each portfolio i from 0 to n make a scatter plot of points with coordinates (day, daily_spread(portfolio(i),day))"
   ]
  },
  {
   "cell_type": "code",
   "execution_count": null,
   "metadata": {},
   "outputs": [],
   "source": [
    "portfs=1000\n",
    "fig=plt.figure(figsize=(14,8))\n",
    "for i in range(len(arr[:portfs,0])): #for each portfolio i from 0 to n\n",
    "    plt.scatter(range(len(arr[0])),arr[i],alpha=0.3,s=1) #make a scatter plot of points with coordinates (day, daily_spread(portfolio(i),day))\n",
    "plt.plot(std)\n",
    "plt.xlabel('Day')\n",
    "plt.ylabel('Daily Spread')\n",
    "plt.title('Daily spread for portfolios')\n",
    "plt.show()"
   ]
  },
  {
   "cell_type": "code",
   "execution_count": null,
   "metadata": {},
   "outputs": [],
   "source": [
    "zip()"
   ]
  },
  {
   "cell_type": "code",
   "execution_count": null,
   "metadata": {},
   "outputs": [],
   "source": [
    "\n",
    "fig =px.scatter(x=range(len(arr[0])),y=arr[0])\n",
    "#fig.add_scatter(x=range(len(arr[0])),y=arr[1])\n",
    "fig.show()"
   ]
  },
  {
   "cell_type": "code",
   "execution_count": null,
   "metadata": {},
   "outputs": [],
   "source": [
    "fig=plt.figure(figsize=(14,8))\n",
    "for i in range(len(arr[:,0])): #for each portfolio i from 0 to n\n",
    "    plt.plot(arr[i],alpha=0.3,linewidth=0.1) #make a scatter plot of points with coordinates (day, daily_spread(portfolio(i),day))\n",
    "plt.plot(std)\n",
    "plt.xlabel('Day')\n",
    "plt.ylabel('Daily Spread')\n",
    "plt.title('Daily spread for portfolios')\n",
    "plt.show()"
   ]
  },
  {
   "cell_type": "code",
   "execution_count": null,
   "metadata": {},
   "outputs": [],
   "source": [
    "arr_sorted=np.sort(arr,axis=0)\n",
    "len(arr_sorted[0])"
   ]
  },
  {
   "cell_type": "code",
   "execution_count": null,
   "metadata": {},
   "outputs": [],
   "source": [
    "find_nearest(arr_sorted[:,0],4)"
   ]
  },
  {
   "cell_type": "code",
   "execution_count": null,
   "metadata": {},
   "outputs": [],
   "source": [
    "np.apply_along_axis(find_nearest,0,arr,4)"
   ]
  },
  {
   "cell_type": "code",
   "execution_count": null,
   "metadata": {},
   "outputs": [],
   "source": [
    "np.apply_along_axis(find_nearest_sorted,0,arr_sorted,4)"
   ]
  },
  {
   "cell_type": "code",
   "execution_count": null,
   "metadata": {},
   "outputs": [],
   "source": [
    "def k_n_array(arr,value,k,axis=0):\n",
    "    '''returns the k-th nearest values to a certain value along an axis of a given array'''\n",
    "    def findk(array,value,k):\n",
    "        aux=np.abs(array - value)\n",
    "        indices=np.argsort(aux)\n",
    "        idx=indices[:k]\n",
    "        return array[idx]\n",
    "    return np.apply_along_axis(findk,axis,arr,value,k)"
   ]
  },
  {
   "cell_type": "code",
   "execution_count": null,
   "metadata": {},
   "outputs": [],
   "source": [
    "k=10\n",
    "v=4\n",
    "np.apply_along_axis(find_k_nearest,0,arr,v,k)"
   ]
  },
  {
   "cell_type": "code",
   "execution_count": null,
   "metadata": {},
   "outputs": [],
   "source": [
    "find_nearest_sorted(arr_sorted[:,0],4)"
   ]
  },
  {
   "cell_type": "code",
   "execution_count": null,
   "metadata": {},
   "outputs": [],
   "source": [
    "d_sp=np.arange(-3,3,step=0.01)"
   ]
  },
  {
   "attachments": {},
   "cell_type": "markdown",
   "metadata": {},
   "source": [
    "Now, for each day, and for each value of daily spread, I compute the 5 closest values of daily sperad to it achiaved by my portfolios"
   ]
  },
  {
   "cell_type": "code",
   "execution_count": null,
   "metadata": {},
   "outputs": [],
   "source": [
    "vals=[]\n",
    "for d in tqdm(d_sp):\n",
    "    vals.append(k_n_array(arr_sorted,d,30))"
   ]
  },
  {
   "cell_type": "code",
   "execution_count": null,
   "metadata": {},
   "outputs": [],
   "source": [
    "def sharpe_dspr(array,knn=30,step=0.01):\n",
    "    '''returns the sharpe ratio obtained trying to keep\n",
    "     a constant daily spread for the time period considered\n",
    "    Input: \n",
    "    \n",
    "    array: an array of shape n_portfolios x m_days\n",
    "    knn: the number of closest daily spread to average\n",
    "    '''\n",
    "    d_sp=np.arange(-3,3,step=step)\n",
    "    vals=[]\n",
    "    for d in tqdm(d_sp):\n",
    "        vals.append(k_n_array(array,d,knn))\n",
    "    vals=np.array(vals)\n",
    "    aa=vals.mean(axis=1)\n",
    "    sharpe=aa.mean(1)/aa.std(1)\n",
    "    return sharpe"
   ]
  },
  {
   "cell_type": "code",
   "execution_count": null,
   "metadata": {},
   "outputs": [],
   "source": [
    "vals=np.array(vals)\n",
    "vals.shape"
   ]
  },
  {
   "attachments": {},
   "cell_type": "markdown",
   "metadata": {},
   "source": [
    "this is an array of dimension (n_steps x n_neighbours x days)"
   ]
  },
  {
   "cell_type": "code",
   "execution_count": null,
   "metadata": {},
   "outputs": [],
   "source": [
    "step=0.005\n",
    "sharpe=sharpe_dspr(arr,30,step)\n",
    "d_sp=np.arange(-3,3,step=step)"
   ]
  },
  {
   "attachments": {},
   "cell_type": "markdown",
   "metadata": {},
   "source": [
    "Let's recreate the plot in https://www.youtube.com/watch?v=51tM3ktXqPY to find the optimal value of daily spread"
   ]
  },
  {
   "cell_type": "code",
   "execution_count": null,
   "metadata": {},
   "outputs": [],
   "source": [
    "plt.figure(figsize=(8,6))\n",
    "plt.plot(d_sp,sharpe)\n",
    "step=0.01\n",
    "plt.plot(np.arange(-3,3,step=step),sharpe_dspr(arr,30,step))\n",
    "plt.plot(np.arange(-3,3,step=step),sharpe_dspr(arr,10,step))\n",
    "plt.grid()\n",
    "plt.xlabel('Daily spread')\n",
    "plt.ylabel('Sharpe Ratio (arbitrary normalization)')\n",
    "plt.show()"
   ]
  }
 ],
 "metadata": {
  "kernelspec": {
   "display_name": "base",
   "language": "python",
   "name": "python3"
  },
  "language_info": {
   "codemirror_mode": {
    "name": "ipython",
    "version": 3
   },
   "file_extension": ".py",
   "mimetype": "text/x-python",
   "name": "python",
   "nbconvert_exporter": "python",
   "pygments_lexer": "ipython3",
   "version": "3.8.8"
  },
  "orig_nbformat": 4
 },
 "nbformat": 4,
 "nbformat_minor": 2
}
