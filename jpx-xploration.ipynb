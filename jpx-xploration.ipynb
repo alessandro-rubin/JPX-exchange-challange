{
  "cells": [
    {
      "cell_type": "code",
      "execution_count": null,
      "metadata": {
        "colab": {
          "base_uri": "https://localhost:8080/",
          "height": 646
        },
        "id": "P9Z7F23lSO4l",
        "outputId": "0e26843d-937f-4670-8217-8274e08f83f5"
      },
      "outputs": [],
      "source": [
        "import os\n",
        "from pathlib import Path\n",
        "\n",
        "try:\n",
        "  import google.colab\n",
        "  IN_COLAB = True\n",
        "  print(\"Running on a Colab Notebook environment\")\n",
        "except:\n",
        "  IN_COLAB = False\n",
        "\n",
        "print(\"os.environ.get('KAGGLE_URL_BASE') == \", os.environ.get('KAGGLE_URL_BASE'))\n",
        "if 'kaggle' in os.environ.get('KAGGLE_URL_BASE','localhost'):\n",
        "    print(\"Running on a Kaggle notebook environment\")\n",
        "    IN_KAGGLE = True\n",
        "else:\n",
        "    IN_KAGGLE = False\n",
        "\n",
        "print(IN_COLAB)\n",
        "print(IN_KAGGLE)\n",
        "if IN_COLAB:\n",
        "    if(os.path.isdir('input/jpx-tokyo-stock-exchange-prediction')==False):\n",
        "        from google.colab import files\n",
        "        files.upload()\n",
        "        ! mkdir ~/.kaggle \n",
        "        ! cp kaggle.json ~/.kaggle/ \n",
        "        ! chmod 600 ~/.kaggle/kaggle.json \n",
        "        ! kaggle competitions download -c jpx-tokyo-stock-exchange-prediction\n",
        "        ! mkdir input\n",
        "        ! mkdir input/jpx-tokyo-stock-exchange-prediction\n",
        "        ! unzip jpx-tokyo-stock-exchange-prediction.zip -d input/jpx-tokyo-stock-exchange-prediction"
      ]
    },
    {
      "cell_type": "code",
      "execution_count": null,
      "metadata": {
        "_cell_guid": "b1076dfc-b9ad-4769-8c92-a6c4dae69d19",
        "_uuid": "8f2839f25d086af736a60e9eeb907d3b93b6e0e5",
        "colab": {
          "base_uri": "https://localhost:8080/",
          "height": 336
        },
        "execution": {
          "iopub.execute_input": "2023-03-31T10:04:37.248259Z",
          "iopub.status.busy": "2023-03-31T10:04:37.247864Z",
          "iopub.status.idle": "2023-03-31T10:04:50.478817Z",
          "shell.execute_reply": "2023-03-31T10:04:50.477450Z",
          "shell.execute_reply.started": "2023-03-31T10:04:37.248224Z"
        },
        "id": "cGOUV9CkSO4p",
        "outputId": "c54cc66b-0648-4d09-f522-322f86f45ffd",
        "trusted": true
      },
      "outputs": [],
      "source": [
        "import warnings, gc\n",
        "import numpy as np \n",
        "import pandas as pd\n",
        "import matplotlib.colors\n",
        "import seaborn as sns\n",
        "import plotly.express as px\n",
        "import plotly.graph_objects as go\n",
        "from plotly.subplots import make_subplots\n",
        "from plotly.offline import init_notebook_mode\n",
        "from datetime import datetime, timedelta\n",
        "from sklearn.model_selection import TimeSeriesSplit\n",
        "from sklearn.metrics import mean_squared_error,mean_absolute_error\n",
        "#from lightgbm import LGBMRegressor\n",
        "from decimal import ROUND_HALF_UP, Decimal\n",
        "warnings.filterwarnings(\"ignore\")\n",
        "import plotly.figure_factory as ff\n",
        "from tqdm.auto import tqdm\n",
        "import copy\n",
        "import math\n",
        "import random\n",
        "import matplotlib.pyplot as plt\n",
        "\n",
        "init_notebook_mode(connected=True)\n",
        "temp = dict(layout=go.Layout(font=dict(family=\"Franklin Gothic\", size=12), width=800))\n",
        "colors=px.colors.qualitative.Plotly\n",
        "root=Path('../input')\n",
        "if IN_COLAB:\n",
        "    root =Path('input')\n",
        "if not IN_COLAB and not IN_KAGGLE:\n",
        "    root=Path('input')\n",
        "train_path=root/'jpx-tokyo-stock-exchange-prediction/train_files/stock_prices.csv'\n",
        "\n",
        "\n",
        "stock_list_path=root/\"jpx-tokyo-stock-exchange-prediction/stock_list.csv\"\n",
        "\n",
        "train=pd.read_csv(train_path, parse_dates=['Date'])\n",
        "stock_list=pd.read_csv(stock_list_path)\n",
        "\n",
        "print(\"The training data begins on {} and ends on {}.\\n\".format(train.Date.min(),train.Date.max()))\n",
        "display(train.describe().style.format('{:,.2f}'))"
      ]
    },
    {
      "cell_type": "code",
      "execution_count": null,
      "metadata": {
        "execution": {
          "iopub.execute_input": "2023-03-31T10:04:50.481430Z",
          "iopub.status.busy": "2023-03-31T10:04:50.481098Z",
          "iopub.status.idle": "2023-03-31T10:04:50.492878Z",
          "shell.execute_reply": "2023-03-31T10:04:50.491477Z",
          "shell.execute_reply.started": "2023-03-31T10:04:50.481386Z"
        },
        "id": "7Oh9crnsSO4r",
        "trusted": true
      },
      "outputs": [],
      "source": [
        "def calc_spread_return_sharpe(df: pd.DataFrame, portfolio_size: int = 200, toprank_weight_ratio: float = 2) -> float:\n",
        "    \"\"\"\n",
        "    Args:\n",
        "        df (pd.DataFrame): predicted results\n",
        "        portfolio_size (int): # of equities to buy/sell\n",
        "        toprank_weight_ratio (float): the relative weight of the most highly ranked stock compared to the least.\n",
        "    Returns:\n",
        "        (float): sharpe ratio\n",
        "    \"\"\"\n",
        "    def _calc_spread_return_per_day(df, portfolio_size, toprank_weight_ratio):\n",
        "        \"\"\"\n",
        "        Args:\n",
        "            df (pd.DataFrame): predicted results\n",
        "            portfolio_size (int): # of equities to buy/sell\n",
        "            toprank_weight_ratio (float): the relative weight of the most highly ranked stock compared to the least.\n",
        "        Returns:\n",
        "            (float): spread return\n",
        "        \"\"\"\n",
        "        assert df['Rank'].min() == 0\n",
        "        assert df['Rank'].max() == len(df['Rank']) - 1\n",
        "        weights = np.linspace(start=toprank_weight_ratio, stop=1, num=portfolio_size)\n",
        "        purchase = (df.sort_values(by='Rank')['Target'][:portfolio_size] * weights).sum() / weights.mean()\n",
        "        short = (df.sort_values(by='Rank', ascending=False)['Target'][:portfolio_size] * weights).sum() / weights.mean()\n",
        "        #print(purchase - short)\n",
        "        return purchase - short\n",
        "\n",
        "    buf = df.groupby('Date').apply(_calc_spread_return_per_day, portfolio_size, toprank_weight_ratio)\n",
        "    sharpe_ratio = buf.mean() / buf.std()\n",
        "    return sharpe_ratio"
      ]
    },
    {
      "cell_type": "code",
      "execution_count": null,
      "metadata": {
        "execution": {
          "iopub.execute_input": "2023-03-31T10:04:50.498288Z",
          "iopub.status.busy": "2023-03-31T10:04:50.497515Z",
          "iopub.status.idle": "2023-03-31T10:04:50.548347Z",
          "shell.execute_reply": "2023-03-31T10:04:50.546800Z",
          "shell.execute_reply.started": "2023-03-31T10:04:50.498237Z"
        },
        "id": "6-zR-dyLSO4t",
        "trusted": true
      },
      "outputs": [],
      "source": [
        "\n",
        "\n",
        "def get_label(price, code):\n",
        "    \"\"\" Labelizer\n",
        "    Args:\n",
        "        price (pd.DataFrame): dataframe of stock_price.csv\n",
        "        code (int): Local Code in the universe\n",
        "    Returns:\n",
        "        df (pd.DataFrame): label data\n",
        "    \"\"\"\n",
        "    df = price.loc[price[\"SecuritiesCode\"] == code].copy()\n",
        "    df.loc[:, \"label\"] = df[\"Target\"]\n",
        "\n",
        "    return df.loc[:, [\"SecuritiesCode\", \"label\"]]\n",
        "\n"
      ]
    },
    {
      "cell_type": "code",
      "execution_count": null,
      "metadata": {
        "colab": {
          "base_uri": "https://localhost:8080/",
          "height": 206
        },
        "execution": {
          "iopub.execute_input": "2023-03-31T10:04:50.552295Z",
          "iopub.status.busy": "2023-03-31T10:04:50.551850Z",
          "iopub.status.idle": "2023-03-31T10:04:50.587228Z",
          "shell.execute_reply": "2023-03-31T10:04:50.585855Z",
          "shell.execute_reply.started": "2023-03-31T10:04:50.552254Z"
        },
        "id": "1nv8fqqbSO4u",
        "outputId": "bbe610d1-c65b-486d-8c2a-b17b28495445",
        "trusted": true
      },
      "outputs": [],
      "source": [
        "train.head()"
      ]
    },
    {
      "cell_type": "code",
      "execution_count": null,
      "metadata": {
        "colab": {
          "base_uri": "https://localhost:8080/",
          "height": 870
        },
        "execution": {
          "iopub.execute_input": "2023-03-31T10:04:50.590012Z",
          "iopub.status.busy": "2023-03-31T10:04:50.589335Z",
          "iopub.status.idle": "2023-03-31T10:04:50.617730Z",
          "shell.execute_reply": "2023-03-31T10:04:50.616713Z",
          "shell.execute_reply.started": "2023-03-31T10:04:50.589963Z"
        },
        "id": "DK-Uu7q5SO4v",
        "outputId": "d13eaa9e-974f-455e-beae-d294c8424d53",
        "trusted": true
      },
      "outputs": [],
      "source": [
        "stock_list"
      ]
    },
    {
      "cell_type": "code",
      "execution_count": null,
      "metadata": {
        "colab": {
          "base_uri": "https://localhost:8080/",
          "height": 717
        },
        "execution": {
          "iopub.execute_input": "2023-03-31T10:04:50.619833Z",
          "iopub.status.busy": "2023-03-31T10:04:50.619201Z",
          "iopub.status.idle": "2023-03-31T10:04:51.136257Z",
          "shell.execute_reply": "2023-03-31T10:04:51.135446Z",
          "shell.execute_reply.started": "2023-03-31T10:04:50.619797Z"
        },
        "id": "30aYDSYXSO4w",
        "outputId": "f2f3493d-fa34-43cf-e4ec-a2da1cced06a",
        "trusted": true
      },
      "outputs": [],
      "source": [
        "train_date=train.Date.unique()\n",
        "returns=train.groupby('Date')['Target'].mean().mul(100).rename('Average Return')\n",
        "close_avg=train.groupby('Date')['Close'].mean().rename('Closing Price')\n",
        "vol_avg=train.groupby('Date')['Volume'].mean().rename('Volume')\n",
        "\n",
        "fig = make_subplots(rows=3, cols=1, \n",
        "                    shared_xaxes=True)\n",
        "for i, j in enumerate([returns, close_avg, vol_avg]):\n",
        "    fig.add_trace(go.Scatter(x=train_date, y=j, mode='lines',\n",
        "                             name=j.name, marker_color=colors[i]), row=i+1, col=1)\n",
        "fig.update_xaxes(rangeslider_visible=False,\n",
        "                 rangeselector=dict(\n",
        "                     buttons=list([\n",
        "                         dict(count=6, label=\"6m\", step=\"month\", stepmode=\"backward\"),\n",
        "                         dict(count=1, label=\"1y\", step=\"year\", stepmode=\"backward\"),\n",
        "                         dict(count=2, label=\"2y\", step=\"year\", stepmode=\"backward\"),\n",
        "                         dict(step=\"all\")])),\n",
        "                 row=1,col=1)\n",
        "fig.update_layout(template=temp,title='JPX Market Average Stock Return, Closing Price, and Shares Traded', \n",
        "                  hovermode='x unified', height=700, \n",
        "                  yaxis1=dict(title='Stock Return', ticksuffix='%'), \n",
        "                  yaxis2_title='Closing Price', yaxis3_title='Shares Traded',\n",
        "                  showlegend=False)\n",
        "fig.show()"
      ]
    },
    {
      "cell_type": "code",
      "execution_count": null,
      "metadata": {
        "colab": {
          "base_uri": "https://localhost:8080/",
          "height": 424
        },
        "execution": {
          "iopub.execute_input": "2023-03-31T10:04:51.138266Z",
          "iopub.status.busy": "2023-03-31T10:04:51.137513Z",
          "iopub.status.idle": "2023-03-31T10:04:51.232454Z",
          "shell.execute_reply": "2023-03-31T10:04:51.231598Z",
          "shell.execute_reply.started": "2023-03-31T10:04:51.138230Z"
        },
        "id": "KE6GrofwSO4x",
        "outputId": "8ed8e1e7-cc45-4240-ed8b-f7b6129a1a6a",
        "trusted": true
      },
      "outputs": [],
      "source": [
        "sample=pd.read_csv('input/jpx-tokyo-stock-exchange-prediction/example_test_files/sample_submission.csv')\n",
        "sample"
      ]
    },
    {
      "cell_type": "markdown",
      "metadata": {
        "id": "zjyTMwgaSO4z"
      },
      "source": [
        "For each dat, assign a number from 1 to n to stocks"
      ]
    },
    {
      "cell_type": "code",
      "execution_count": null,
      "metadata": {
        "colab": {
          "base_uri": "https://localhost:8080/",
          "height": 468
        },
        "execution": {
          "iopub.execute_input": "2023-03-31T10:04:51.235118Z",
          "iopub.status.busy": "2023-03-31T10:04:51.233953Z",
          "iopub.status.idle": "2023-03-31T10:04:51.295645Z",
          "shell.execute_reply": "2023-03-31T10:04:51.294411Z",
          "shell.execute_reply.started": "2023-03-31T10:04:51.235068Z"
        },
        "id": "YqsiWV0DSO41",
        "outputId": "55f1dfbd-591b-401b-f699-bd2473401818",
        "trusted": true
      },
      "outputs": [],
      "source": [
        "train_subset=train.loc[train['Date']>'2021-02-02']\n",
        "train_subset"
      ]
    },
    {
      "cell_type": "code",
      "execution_count": null,
      "metadata": {
        "colab": {
          "base_uri": "https://localhost:8080/",
          "height": 424
        },
        "execution": {
          "iopub.execute_input": "2023-03-31T10:04:51.297569Z",
          "iopub.status.busy": "2023-03-31T10:04:51.297122Z",
          "iopub.status.idle": "2023-03-31T10:04:51.319559Z",
          "shell.execute_reply": "2023-03-31T10:04:51.318311Z",
          "shell.execute_reply.started": "2023-03-31T10:04:51.297524Z"
        },
        "id": "g26ICzsUSO42",
        "outputId": "5f33f242-aeeb-445c-97f2-92f43f2fe7ba",
        "trusted": true
      },
      "outputs": [],
      "source": [
        "# i need a function to generate portfolios:\n",
        "random_sort=train_subset.SecuritiesCode.unique()\n",
        "#random_sort['Rank']=np.random.rand(len(random_sort))\n",
        "random_sort=pd.DataFrame(random_sort,columns=['SecuritiesCode'])\n",
        "random_sort['Rank']=np.random.rand(len(random_sort))\n",
        "random_sort.sort_values(\"Rank\")\n",
        "random_sort['Rank']=(random_sort['Rank'].rank(method='dense',ascending=True).astype(int))-1\n",
        "random_sort"
      ]
    },
    {
      "cell_type": "code",
      "execution_count": null,
      "metadata": {
        "colab": {
          "base_uri": "https://localhost:8080/"
        },
        "execution": {
          "iopub.execute_input": "2023-03-31T10:04:51.323073Z",
          "iopub.status.busy": "2023-03-31T10:04:51.322764Z",
          "iopub.status.idle": "2023-03-31T10:04:51.333057Z",
          "shell.execute_reply": "2023-03-31T10:04:51.332059Z",
          "shell.execute_reply.started": "2023-03-31T10:04:51.323044Z"
        },
        "id": "xZMGEkGWSO44",
        "outputId": "191253c1-de4b-4d7f-c58f-dc4ec25395ba",
        "trusted": true
      },
      "outputs": [],
      "source": [
        "SecuritiesCode=train_subset.SecuritiesCode.unique()\n",
        "SecuritiesCode\n"
      ]
    },
    {
      "cell_type": "code",
      "execution_count": null,
      "metadata": {
        "execution": {
          "iopub.execute_input": "2023-03-31T10:12:33.644549Z",
          "iopub.status.busy": "2023-03-31T10:12:33.644096Z",
          "iopub.status.idle": "2023-03-31T10:12:33.652810Z",
          "shell.execute_reply": "2023-03-31T10:12:33.651444Z",
          "shell.execute_reply.started": "2023-03-31T10:12:33.644509Z"
        },
        "id": "g1ripUHkSO45",
        "trusted": true
      },
      "outputs": [],
      "source": [
        "def generate_random_ranking_dict(securities):\n",
        "    order=np.arange(len(securities))\n",
        "    np.random.shuffle(order)\n",
        "    randomdict={s:r for s,r in zip(securities,order)}\n",
        "    #print(randomdict)\n",
        "    return randomdict\n",
        "\n",
        "def generate_random_ranking(securities):\n",
        "#random_sort['Rank']=np.random.rand(len(random_sort))\n",
        "    \n",
        "    random_sort=pd.DataFrame(securities,columns=['SecuritiesCode'])\n",
        "    random_sort['Rank']=np.random.rand(len(random_sort))\n",
        "    random_sort.sort_values(\"Rank\")\n",
        "    random_sort['Rank']=(random_sort['Rank'].rank(method='dense',ascending=True).astype(int))-1\n",
        "    random_sort\n",
        "    return random_sort"
      ]
    },
    {
      "cell_type": "code",
      "execution_count": null,
      "metadata": {
        "colab": {
          "base_uri": "https://localhost:8080/",
          "height": 488
        },
        "execution": {
          "iopub.execute_input": "2023-03-31T10:17:59.712535Z",
          "iopub.status.busy": "2023-03-31T10:17:59.711422Z",
          "iopub.status.idle": "2023-03-31T10:17:59.747809Z",
          "shell.execute_reply": "2023-03-31T10:17:59.746738Z",
          "shell.execute_reply.started": "2023-03-31T10:17:59.712490Z"
        },
        "id": "DsNNu56iSO46",
        "outputId": "75829c08-b3d5-43a2-cc93-1ea4715ccf31",
        "trusted": true
      },
      "outputs": [],
      "source": [
        "randomrank=generate_random_ranking_dict(SecuritiesCode)\n",
        "train_subset['Rank']=train_subset['SecuritiesCode'].map(randomrank)\n",
        "train_subset"
      ]
    },
    {
      "cell_type": "code",
      "execution_count": null,
      "metadata": {
        "execution": {
          "iopub.execute_input": "2023-03-31T10:28:58.441672Z",
          "iopub.status.busy": "2023-03-31T10:28:58.440508Z",
          "iopub.status.idle": "2023-03-31T10:28:58.446232Z",
          "shell.execute_reply": "2023-03-31T10:28:58.444959Z",
          "shell.execute_reply.started": "2023-03-31T10:28:58.441631Z"
        },
        "id": "LFpBWj4nSO46",
        "trusted": true
      },
      "outputs": [],
      "source": [
        "sharpes=[]"
      ]
    },
    {
      "cell_type": "code",
      "execution_count": null,
      "metadata": {
        "execution": {
          "iopub.execute_input": "2023-03-31T10:29:47.608303Z",
          "iopub.status.busy": "2023-03-31T10:29:47.607916Z",
          "iopub.status.idle": "2023-03-31T10:29:47.616430Z",
          "shell.execute_reply": "2023-03-31T10:29:47.615109Z",
          "shell.execute_reply.started": "2023-03-31T10:29:47.608268Z"
        },
        "id": "6ZamofOxSO47",
        "trusted": true
      },
      "outputs": [],
      "source": [
        "def calc_spread_return_per_day(df, portfolio_size=200, toprank_weight_ratio=2):\n",
        "    \"\"\"\n",
        "    Args:\n",
        "        df (pd.DataFrame): predicted results\n",
        "        portfolio_size (int): # of equities to buy/sell\n",
        "        toprank_weight_ratio (float): the relative weight of the most highly ranked stock compared to the least.\n",
        "    Returns:\n",
        "        (float): spread return\n",
        "    \"\"\"\n",
        "    assert df['Rank'].min() == 0\n",
        "    assert df['Rank'].max() == len(df['Rank']) - 1\n",
        "    weights = np.linspace(start=toprank_weight_ratio, stop=1, num=portfolio_size)\n",
        "    purchase = (df.sort_values(by='Rank')['Target'][:portfolio_size] * weights).sum() / weights.mean()\n",
        "    short = (df.sort_values(by='Rank', ascending=False)['Target'][:portfolio_size] * weights).sum() / weights.mean()\n",
        "    #print(purchase - short)\n",
        "    return purchase - short"
      ]
    },
    {
      "cell_type": "code",
      "execution_count": null,
      "metadata": {
        "id": "8bkr8ymKSO49"
      },
      "outputs": [],
      "source": [
        "def generate_n_portfolios(SecuritiesCode,n):\n",
        "    portfolios=[]\n",
        "    for i in range(n):\n",
        "        portfolios.append(generate_random_ranking_dict(SecuritiesCode))\n",
        "    return portfolios"
      ]
    },
    {
      "cell_type": "code",
      "execution_count": null,
      "metadata": {
        "id": "ijyRFvnt8VRR"
      },
      "outputs": [],
      "source": [
        "portfolios=generate_n_portfolios(SecuritiesCode,10000)\n"
      ]
    },
    {
      "cell_type": "code",
      "execution_count": null,
      "metadata": {
        "colab": {
          "base_uri": "https://localhost:8080/",
          "height": 404,
          "referenced_widgets": [
            "1a6765d91c944b7dbd51c8b7404c674f",
            "9c2d0ae698544691b6cb6fc721e69f9e",
            "38a9ac1b997a4d18821d816e0e0bdebd",
            "d3d7104daf87407e819c399ab09c41da",
            "757379999f17421885dc176bd04bae58",
            "744f881d82044ebbaeb83e602f4fdabb",
            "023d7666963847b6ac73249fbf3a9ab2",
            "f4ea0955397747f4a35b6b4a4d5c9e67",
            "edc69105529d48cb8ad0524cfc43c02d",
            "2db026f75c39421db2b7cfe031b4527a",
            "0699cb049ec44539bedb88064cc8490e"
          ]
        },
        "id": "vbhkE9jL9puJ",
        "outputId": "a06e8d6c-7a95-4ce9-d12f-4482596d32ae"
      },
      "outputs": [],
      "source": [
        "bufs=[]\n",
        "for port in tqdm(portfolios):\n",
        "    train_subset['Rank']=train_subset['SecuritiesCode'].map(port)\n",
        "    buf = train_subset.groupby('Date').apply(calc_spread_return_per_day)\n",
        "    bufs.append(buf)"
      ]
    },
    {
      "cell_type": "code",
      "execution_count": null,
      "metadata": {
        "colab": {
          "base_uri": "https://localhost:8080/"
        },
        "id": "tVReD8kSAmcx",
        "outputId": "0bff4d3c-1d7b-4f76-ced9-9358376e1e1c"
      },
      "outputs": [],
      "source": [
        "arr=np.array(bufs)\n",
        "arr"
      ]
    },
    {
      "cell_type": "code",
      "execution_count": null,
      "metadata": {
        "colab": {
          "base_uri": "https://localhost:8080/"
        },
        "id": "ibErNpR3xWg7",
        "outputId": "3ed936cf-96fe-401d-a2bf-67511b496905"
      },
      "outputs": [],
      "source": [
        "plt.rcParams['lines.markersize']"
      ]
    },
    {
      "cell_type": "code",
      "execution_count": null,
      "metadata": {
        "id": "839P8VYmzS0y"
      },
      "outputs": [],
      "source": [
        "std=np.std(arr,axis=0)"
      ]
    },
    {
      "cell_type": "code",
      "execution_count": null,
      "metadata": {
        "id": "LcLtkQ0e048K"
      },
      "outputs": [],
      "source": [
        "with open('daily_spreads.npy','wb') as f:\n",
        "    np.save(f,arr)"
      ]
    },
    {
      "cell_type": "code",
      "execution_count": null,
      "metadata": {
        "id": "K8AeCjUU5nIV"
      },
      "outputs": [],
      "source": [
        "#i want to "
      ]
    },
    {
      "cell_type": "code",
      "execution_count": null,
      "metadata": {
        "colab": {
          "base_uri": "https://localhost:8080/"
        },
        "id": "ki9b6XPi6YSN",
        "outputId": "2c410df0-cda2-4c27-8769-7723f2b60a59"
      },
      "outputs": [],
      "source": [
        "arr.shape"
      ]
    },
    {
      "cell_type": "code",
      "execution_count": null,
      "metadata": {
        "execution": {
          "iopub.execute_input": "2023-03-31T10:30:47.150299Z",
          "iopub.status.busy": "2023-03-31T10:30:47.149856Z",
          "iopub.status.idle": "2023-03-31T10:30:49.337709Z",
          "shell.execute_reply": "2023-03-31T10:30:49.335671Z",
          "shell.execute_reply.started": "2023-03-31T10:30:47.150262Z"
        },
        "id": "L7Iy-6eCSO49",
        "trusted": true
      },
      "outputs": [],
      "source": [
        "n=1000\n",
        "\n",
        "for i in tqdm(range(n)):\n",
        "    randomrank=generate_random_ranking_dict(SecuritiesCode)\n",
        "    train_subset['Rank']=train_subset['SecuritiesCode'].map(randomrank)\n",
        "    sharpe=calc_spread_return_sharpe(train_subset)\n",
        "    sharpes.append(sharpe)"
      ]
    },
    {
      "cell_type": "code",
      "execution_count": null,
      "metadata": {
        "execution": {
          "iopub.status.busy": "2023-03-31T10:29:12.354740Z",
          "iopub.status.idle": "2023-03-31T10:29:12.355345Z",
          "shell.execute_reply": "2023-03-31T10:29:12.355070Z",
          "shell.execute_reply.started": "2023-03-31T10:29:12.355036Z"
        },
        "id": "3IZGyUWsSO4-",
        "trusted": true
      },
      "outputs": [],
      "source": [
        "plt.hist(sharpes,bins=30)\n",
        "plt.show()"
      ]
    },
    {
      "cell_type": "markdown",
      "metadata": {
        "id": "cEQs9UqYSO4-"
      },
      "source": [
        "References:\n",
        "\n",
        "https://www.kaggle.com/code/smeitoma/jpx-competition-metric-definition\n",
        "\n",
        "https://www.kaggle.com/code/smeitoma/submission-demo\n",
        "\n",
        "https://www.kaggle.com/code/smeitoma/train-demo\n",
        "\n",
        "https://www.kaggle.com/code/kellibelcher/jpx-stock-market-analysis-prediction-with-lgbm"
      ]
    }
  ],
  "metadata": {
    "colab": {
      "provenance": []
    },
    "kernelspec": {
      "display_name": "Python 3",
      "language": "python",
      "name": "python3"
    },
    "language_info": {
      "codemirror_mode": {
        "name": "ipython",
        "version": 3
      },
      "file_extension": ".py",
      "mimetype": "text/x-python",
      "name": "python",
      "nbconvert_exporter": "python",
      "pygments_lexer": "ipython3",
      "version": "3.8.8"
    },
    "widgets": {
      "application/vnd.jupyter.widget-state+json": {
        "023d7666963847b6ac73249fbf3a9ab2": {
          "model_module": "@jupyter-widgets/controls",
          "model_module_version": "1.5.0",
          "model_name": "DescriptionStyleModel",
          "state": {
            "_model_module": "@jupyter-widgets/controls",
            "_model_module_version": "1.5.0",
            "_model_name": "DescriptionStyleModel",
            "_view_count": null,
            "_view_module": "@jupyter-widgets/base",
            "_view_module_version": "1.2.0",
            "_view_name": "StyleView",
            "description_width": ""
          }
        },
        "0699cb049ec44539bedb88064cc8490e": {
          "model_module": "@jupyter-widgets/controls",
          "model_module_version": "1.5.0",
          "model_name": "DescriptionStyleModel",
          "state": {
            "_model_module": "@jupyter-widgets/controls",
            "_model_module_version": "1.5.0",
            "_model_name": "DescriptionStyleModel",
            "_view_count": null,
            "_view_module": "@jupyter-widgets/base",
            "_view_module_version": "1.2.0",
            "_view_name": "StyleView",
            "description_width": ""
          }
        },
        "1a6765d91c944b7dbd51c8b7404c674f": {
          "model_module": "@jupyter-widgets/controls",
          "model_module_version": "1.5.0",
          "model_name": "HBoxModel",
          "state": {
            "_dom_classes": [],
            "_model_module": "@jupyter-widgets/controls",
            "_model_module_version": "1.5.0",
            "_model_name": "HBoxModel",
            "_view_count": null,
            "_view_module": "@jupyter-widgets/controls",
            "_view_module_version": "1.5.0",
            "_view_name": "HBoxView",
            "box_style": "",
            "children": [
              "IPY_MODEL_9c2d0ae698544691b6cb6fc721e69f9e",
              "IPY_MODEL_38a9ac1b997a4d18821d816e0e0bdebd",
              "IPY_MODEL_d3d7104daf87407e819c399ab09c41da"
            ],
            "layout": "IPY_MODEL_757379999f17421885dc176bd04bae58"
          }
        },
        "2db026f75c39421db2b7cfe031b4527a": {
          "model_module": "@jupyter-widgets/base",
          "model_module_version": "1.2.0",
          "model_name": "LayoutModel",
          "state": {
            "_model_module": "@jupyter-widgets/base",
            "_model_module_version": "1.2.0",
            "_model_name": "LayoutModel",
            "_view_count": null,
            "_view_module": "@jupyter-widgets/base",
            "_view_module_version": "1.2.0",
            "_view_name": "LayoutView",
            "align_content": null,
            "align_items": null,
            "align_self": null,
            "border": null,
            "bottom": null,
            "display": null,
            "flex": null,
            "flex_flow": null,
            "grid_area": null,
            "grid_auto_columns": null,
            "grid_auto_flow": null,
            "grid_auto_rows": null,
            "grid_column": null,
            "grid_gap": null,
            "grid_row": null,
            "grid_template_areas": null,
            "grid_template_columns": null,
            "grid_template_rows": null,
            "height": null,
            "justify_content": null,
            "justify_items": null,
            "left": null,
            "margin": null,
            "max_height": null,
            "max_width": null,
            "min_height": null,
            "min_width": null,
            "object_fit": null,
            "object_position": null,
            "order": null,
            "overflow": null,
            "overflow_x": null,
            "overflow_y": null,
            "padding": null,
            "right": null,
            "top": null,
            "visibility": null,
            "width": null
          }
        },
        "38a9ac1b997a4d18821d816e0e0bdebd": {
          "model_module": "@jupyter-widgets/controls",
          "model_module_version": "1.5.0",
          "model_name": "FloatProgressModel",
          "state": {
            "_dom_classes": [],
            "_model_module": "@jupyter-widgets/controls",
            "_model_module_version": "1.5.0",
            "_model_name": "FloatProgressModel",
            "_view_count": null,
            "_view_module": "@jupyter-widgets/controls",
            "_view_module_version": "1.5.0",
            "_view_name": "ProgressView",
            "bar_style": "danger",
            "description": "",
            "description_tooltip": null,
            "layout": "IPY_MODEL_f4ea0955397747f4a35b6b4a4d5c9e67",
            "max": 10000,
            "min": 0,
            "orientation": "horizontal",
            "style": "IPY_MODEL_edc69105529d48cb8ad0524cfc43c02d",
            "value": 679
          }
        },
        "744f881d82044ebbaeb83e602f4fdabb": {
          "model_module": "@jupyter-widgets/base",
          "model_module_version": "1.2.0",
          "model_name": "LayoutModel",
          "state": {
            "_model_module": "@jupyter-widgets/base",
            "_model_module_version": "1.2.0",
            "_model_name": "LayoutModel",
            "_view_count": null,
            "_view_module": "@jupyter-widgets/base",
            "_view_module_version": "1.2.0",
            "_view_name": "LayoutView",
            "align_content": null,
            "align_items": null,
            "align_self": null,
            "border": null,
            "bottom": null,
            "display": null,
            "flex": null,
            "flex_flow": null,
            "grid_area": null,
            "grid_auto_columns": null,
            "grid_auto_flow": null,
            "grid_auto_rows": null,
            "grid_column": null,
            "grid_gap": null,
            "grid_row": null,
            "grid_template_areas": null,
            "grid_template_columns": null,
            "grid_template_rows": null,
            "height": null,
            "justify_content": null,
            "justify_items": null,
            "left": null,
            "margin": null,
            "max_height": null,
            "max_width": null,
            "min_height": null,
            "min_width": null,
            "object_fit": null,
            "object_position": null,
            "order": null,
            "overflow": null,
            "overflow_x": null,
            "overflow_y": null,
            "padding": null,
            "right": null,
            "top": null,
            "visibility": null,
            "width": null
          }
        },
        "757379999f17421885dc176bd04bae58": {
          "model_module": "@jupyter-widgets/base",
          "model_module_version": "1.2.0",
          "model_name": "LayoutModel",
          "state": {
            "_model_module": "@jupyter-widgets/base",
            "_model_module_version": "1.2.0",
            "_model_name": "LayoutModel",
            "_view_count": null,
            "_view_module": "@jupyter-widgets/base",
            "_view_module_version": "1.2.0",
            "_view_name": "LayoutView",
            "align_content": null,
            "align_items": null,
            "align_self": null,
            "border": null,
            "bottom": null,
            "display": null,
            "flex": null,
            "flex_flow": null,
            "grid_area": null,
            "grid_auto_columns": null,
            "grid_auto_flow": null,
            "grid_auto_rows": null,
            "grid_column": null,
            "grid_gap": null,
            "grid_row": null,
            "grid_template_areas": null,
            "grid_template_columns": null,
            "grid_template_rows": null,
            "height": null,
            "justify_content": null,
            "justify_items": null,
            "left": null,
            "margin": null,
            "max_height": null,
            "max_width": null,
            "min_height": null,
            "min_width": null,
            "object_fit": null,
            "object_position": null,
            "order": null,
            "overflow": null,
            "overflow_x": null,
            "overflow_y": null,
            "padding": null,
            "right": null,
            "top": null,
            "visibility": null,
            "width": null
          }
        },
        "9c2d0ae698544691b6cb6fc721e69f9e": {
          "model_module": "@jupyter-widgets/controls",
          "model_module_version": "1.5.0",
          "model_name": "HTMLModel",
          "state": {
            "_dom_classes": [],
            "_model_module": "@jupyter-widgets/controls",
            "_model_module_version": "1.5.0",
            "_model_name": "HTMLModel",
            "_view_count": null,
            "_view_module": "@jupyter-widgets/controls",
            "_view_module_version": "1.5.0",
            "_view_name": "HTMLView",
            "description": "",
            "description_tooltip": null,
            "layout": "IPY_MODEL_744f881d82044ebbaeb83e602f4fdabb",
            "placeholder": "​",
            "style": "IPY_MODEL_023d7666963847b6ac73249fbf3a9ab2",
            "value": "  7%"
          }
        },
        "d3d7104daf87407e819c399ab09c41da": {
          "model_module": "@jupyter-widgets/controls",
          "model_module_version": "1.5.0",
          "model_name": "HTMLModel",
          "state": {
            "_dom_classes": [],
            "_model_module": "@jupyter-widgets/controls",
            "_model_module_version": "1.5.0",
            "_model_name": "HTMLModel",
            "_view_count": null,
            "_view_module": "@jupyter-widgets/controls",
            "_view_module_version": "1.5.0",
            "_view_name": "HTMLView",
            "description": "",
            "description_tooltip": null,
            "layout": "IPY_MODEL_2db026f75c39421db2b7cfe031b4527a",
            "placeholder": "​",
            "style": "IPY_MODEL_0699cb049ec44539bedb88064cc8490e",
            "value": " 679/10000 [06:41&lt;1:24:17,  1.84it/s]"
          }
        },
        "edc69105529d48cb8ad0524cfc43c02d": {
          "model_module": "@jupyter-widgets/controls",
          "model_module_version": "1.5.0",
          "model_name": "ProgressStyleModel",
          "state": {
            "_model_module": "@jupyter-widgets/controls",
            "_model_module_version": "1.5.0",
            "_model_name": "ProgressStyleModel",
            "_view_count": null,
            "_view_module": "@jupyter-widgets/base",
            "_view_module_version": "1.2.0",
            "_view_name": "StyleView",
            "bar_color": null,
            "description_width": ""
          }
        },
        "f4ea0955397747f4a35b6b4a4d5c9e67": {
          "model_module": "@jupyter-widgets/base",
          "model_module_version": "1.2.0",
          "model_name": "LayoutModel",
          "state": {
            "_model_module": "@jupyter-widgets/base",
            "_model_module_version": "1.2.0",
            "_model_name": "LayoutModel",
            "_view_count": null,
            "_view_module": "@jupyter-widgets/base",
            "_view_module_version": "1.2.0",
            "_view_name": "LayoutView",
            "align_content": null,
            "align_items": null,
            "align_self": null,
            "border": null,
            "bottom": null,
            "display": null,
            "flex": null,
            "flex_flow": null,
            "grid_area": null,
            "grid_auto_columns": null,
            "grid_auto_flow": null,
            "grid_auto_rows": null,
            "grid_column": null,
            "grid_gap": null,
            "grid_row": null,
            "grid_template_areas": null,
            "grid_template_columns": null,
            "grid_template_rows": null,
            "height": null,
            "justify_content": null,
            "justify_items": null,
            "left": null,
            "margin": null,
            "max_height": null,
            "max_width": null,
            "min_height": null,
            "min_width": null,
            "object_fit": null,
            "object_position": null,
            "order": null,
            "overflow": null,
            "overflow_x": null,
            "overflow_y": null,
            "padding": null,
            "right": null,
            "top": null,
            "visibility": null,
            "width": null
          }
        }
      }
    }
  },
  "nbformat": 4,
  "nbformat_minor": 0
}
